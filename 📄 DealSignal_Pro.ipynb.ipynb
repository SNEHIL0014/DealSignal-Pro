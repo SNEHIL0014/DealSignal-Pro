{
 "cells": [
  {
   "cell_type": "markdown",
   "id": "fb2444ef-c765-4e79-a753-1ac58c3e5c87",
   "metadata": {},
   "source": [
    "# 🔍 DealSignal Pro – AI-Driven Lead Scoring Walkthrough\n",
    "\n",
    "This notebook demonstrates the end-to-end scoring, enrichment, and evaluation pipeline used to prioritize high-value leads for Caprae Capital's AI internship challenge.\n"
   ]
  },
  {
   "cell_type": "code",
   "execution_count": 11,
   "id": "b47a007f-6ef4-4b3c-80f0-476184270b19",
   "metadata": {},
   "outputs": [],
   "source": [
    "import pandas as pd\n",
    "import matplotlib.pyplot as plt\n"
   ]
  },
  {
   "cell_type": "code",
   "execution_count": 12,
   "id": "6a76fa80-a2a8-45ce-b5e5-d9f1c1d533d6",
   "metadata": {},
   "outputs": [],
   "source": [
    "df = pd.read_csv(r\"C:\\Users\\1420s\\OneDrive\\Desktop\\DealSignal-Pro\\data\\leads.csv\")\n"
   ]
  },
  {
   "cell_type": "code",
   "execution_count": 13,
   "id": "1cc73900-9a57-4188-8934-0f050a29a2ea",
   "metadata": {},
   "outputs": [],
   "source": [
    "def calculate_lead_score(row):\n",
    "    score = 0\n",
    "    title = row['Title'].lower()\n",
    "    industry = row['Industry'].lower()\n",
    "    size = int(row['CompanySize'])\n",
    "\n",
    "    if 'ceo' in title or 'founder' in title:\n",
    "        score += 30\n",
    "    elif 'cto' in title or 'director' in title:\n",
    "        score += 25\n",
    "    elif 'manager' in title:\n",
    "        score += 15\n",
    "    else:\n",
    "        score += 10\n",
    "\n",
    "    score += 20 if any(k in industry for k in ['saas', 'ai']) else 10\n",
    "    score += 15 if row['Location'].lower() in ['usa', 'canada', 'uk'] else 5\n",
    "    score += 15 if 10 <= size <= 100 else 5\n",
    "\n",
    "    return round(score, 2)\n"
   ]
  },
  {
   "cell_type": "code",
   "execution_count": 14,
   "id": "e2047658-e3d5-4316-a6b3-5183dea014fd",
   "metadata": {},
   "outputs": [],
   "source": [
    "df['LeadScore'] = df.apply(calculate_lead_score, axis=1)\n",
    "\n",
    "# Tag if AI or SaaS (CapraeLens)\n",
    "df['CapraeLens'] = df['Industry'].str.lower().apply(lambda x: 'SaaS/AI' if 'saas' in x or 'ai' in x else 'Other')\n",
    "\n",
    "# GDPR location flag\n",
    "gdpr_countries = ['germany', 'france', 'india', 'spain', 'netherlands']\n",
    "df['GDPR_Applicable'] = df['Location'].str.lower().apply(lambda x: x in gdpr_countries)\n",
    "\n",
    "# Estimate deal value from score\n",
    "df['EstimatedValue'] = df['LeadScore'] * 4200\n",
    "\n",
    "# Mark nurture candidates\n",
    "df['NurtureCandidate'] = df['LeadScore'] < 60\n"
   ]
  },
  {
   "cell_type": "code",
   "execution_count": 15,
   "id": "64892f76-e905-4654-a8ca-896c72ea4025",
   "metadata": {},
   "outputs": [
    {
     "data": {
      "text/html": [
       "<div>\n",
       "<style scoped>\n",
       "    .dataframe tbody tr th:only-of-type {\n",
       "        vertical-align: middle;\n",
       "    }\n",
       "\n",
       "    .dataframe tbody tr th {\n",
       "        vertical-align: top;\n",
       "    }\n",
       "\n",
       "    .dataframe thead th {\n",
       "        text-align: right;\n",
       "    }\n",
       "</style>\n",
       "<table border=\"1\" class=\"dataframe\">\n",
       "  <thead>\n",
       "    <tr style=\"text-align: right;\">\n",
       "      <th></th>\n",
       "      <th>Name</th>\n",
       "      <th>Title</th>\n",
       "      <th>Company</th>\n",
       "      <th>Industry</th>\n",
       "      <th>Location</th>\n",
       "      <th>CompanySize</th>\n",
       "      <th>LeadScore</th>\n",
       "      <th>CapraeLens</th>\n",
       "      <th>GDPR_Applicable</th>\n",
       "      <th>EstimatedValue</th>\n",
       "      <th>NurtureCandidate</th>\n",
       "    </tr>\n",
       "  </thead>\n",
       "  <tbody>\n",
       "    <tr>\n",
       "      <th>0</th>\n",
       "      <td>John Smith</td>\n",
       "      <td>Founder &amp; CEO</td>\n",
       "      <td>FinAI</td>\n",
       "      <td>SaaS</td>\n",
       "      <td>USA</td>\n",
       "      <td>20</td>\n",
       "      <td>80</td>\n",
       "      <td>SaaS/AI</td>\n",
       "      <td>False</td>\n",
       "      <td>336000</td>\n",
       "      <td>False</td>\n",
       "    </tr>\n",
       "    <tr>\n",
       "      <th>2</th>\n",
       "      <td>Tom Ford</td>\n",
       "      <td>CTO</td>\n",
       "      <td>AutoNext</td>\n",
       "      <td>Automotive</td>\n",
       "      <td>USA</td>\n",
       "      <td>1500</td>\n",
       "      <td>55</td>\n",
       "      <td>Other</td>\n",
       "      <td>False</td>\n",
       "      <td>231000</td>\n",
       "      <td>True</td>\n",
       "    </tr>\n",
       "    <tr>\n",
       "      <th>1</th>\n",
       "      <td>Emma Watson</td>\n",
       "      <td>Marketing Manager</td>\n",
       "      <td>HealthCo</td>\n",
       "      <td>Healthcare</td>\n",
       "      <td>India</td>\n",
       "      <td>300</td>\n",
       "      <td>35</td>\n",
       "      <td>Other</td>\n",
       "      <td>True</td>\n",
       "      <td>147000</td>\n",
       "      <td>True</td>\n",
       "    </tr>\n",
       "  </tbody>\n",
       "</table>\n",
       "</div>"
      ],
      "text/plain": [
       "          Name              Title   Company    Industry Location  CompanySize  \\\n",
       "0   John Smith      Founder & CEO     FinAI        SaaS      USA           20   \n",
       "2     Tom Ford                CTO  AutoNext  Automotive      USA         1500   \n",
       "1  Emma Watson  Marketing Manager  HealthCo  Healthcare    India          300   \n",
       "\n",
       "   LeadScore CapraeLens  GDPR_Applicable  EstimatedValue  NurtureCandidate  \n",
       "0         80    SaaS/AI            False          336000             False  \n",
       "2         55      Other            False          231000              True  \n",
       "1         35      Other             True          147000              True  "
      ]
     },
     "execution_count": 15,
     "metadata": {},
     "output_type": "execute_result"
    }
   ],
   "source": [
    "df.sort_values('LeadScore', ascending=False).head(10)\n"
   ]
  },
  {
   "cell_type": "code",
   "execution_count": 16,
   "id": "839b8cc6-9531-46fd-9e8a-baa62d8e7771",
   "metadata": {},
   "outputs": [
    {
     "data": {
      "image/png": "[encoded data removed]",
      "text/plain": [
       "<Figure size 1000x400 with 1 Axes>"
      ]
     },
     "metadata": {},
     "output_type": "display_data"
    }
   ],
   "source": [
    "import matplotlib.pyplot as plt\n",
    "\n",
    "plt.figure(figsize=(10, 4))\n",
    "plt.bar(df['Name'], df['LeadScore'], color='skyblue')\n",
    "plt.xticks(rotation=45)\n",
    "plt.title('Top Leads by Score')\n",
    "plt.tight_layout()\n",
    "plt.show()\n"
   ]
  },
  {
   "cell_type": "code",
   "execution_count": 10,
   "id": "14251bbb-ff43-468d-bdf0-7a73d2f4c8a9",
   "metadata": {},
   "outputs": [
    {
     "name": "stdout",
     "output_type": "stream",
     "text": [
      "✅ Scored file saved to /output/scored_with_messages.csv\n"
     ]
    }
   ],
   "source": [
    "df.to_csv(r\"C:\\Users\\1420s\\OneDrive\\Desktop\\DealSignal-Pro\\output\\scored_with_messages.csv\", index=False)\n",
    "print(\"✅ Scored file saved to /output/scored_with_messages.csv\")\n"
   ]
  },
  {
   "cell_type": "markdown",
   "id": "8041d251-1d99-49a9-a48e-cc289ee8431c",
   "metadata": {},
   "source": [
    "## ✅ Business Summary\n",
    "\n",
    "DealSignal Pro scores and enriches raw leads to help Caprae Capital prioritize outreach.  \n",
    "Key highlights:\n",
    "- Focuses on senior roles in SaaS/AI with midsize companies\n",
    "- Flags GDPR leads for compliance\n",
    "- Adds CapraeLens (ICP match), estimated deal value, and nurture filters\n",
    "\n",
    "This enables 3x faster lead prioritization and smarter decision-making.\n"
   ]
  },
  {
   "cell_type": "code",
   "execution_count": null,
   "id": "1cc7fd24-4dd8-40dd-a72c-f783a4422635",
   "metadata": {},
   "outputs": [],
   "source": []
  }
 ],
 "metadata": {
  "kernelspec": {
   "display_name": "Python 3 (ipykernel)",
   "language": "python",
   "name": "python3"
  },
  "language_info": {
   "codemirror_mode": {
    "name": "ipython",
    "version": 3
   },
   "file_extension": ".py",
   "mimetype": "text/x-python",
   "name": "python",
   "nbconvert_exporter": "python",
   "pygments_lexer": "ipython3",
   "version": "3.12.4"
  }
 },
 "nbformat": 4,
 "nbformat_minor": 5
}
